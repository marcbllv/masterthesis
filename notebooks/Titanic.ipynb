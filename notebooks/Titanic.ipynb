{
 "cells": [
  {
   "cell_type": "code",
   "execution_count": 2,
   "metadata": {
    "collapsed": false
   },
   "outputs": [],
   "source": [
    "import pandas as pd\n",
    "import numpy as np\n",
    "import seaborn as sns\n",
    "%matplotlib inline\n",
    "from sklearn.ensemble import RandomForestClassifier\n",
    "from treeinterpreter import treeinterpreter"
   ]
  },
  {
   "cell_type": "code",
   "execution_count": 3,
   "metadata": {
    "collapsed": true
   },
   "outputs": [],
   "source": [
    "train = pd.read_csv('./datasets/titanic_train.csv')\n",
    "test  = pd.read_csv('./datasets/titanic_test.csv')"
   ]
  },
  {
   "cell_type": "markdown",
   "metadata": {},
   "source": [
    "## Data preparation"
   ]
  },
  {
   "cell_type": "code",
   "execution_count": 4,
   "metadata": {
    "collapsed": false
   },
   "outputs": [
    {
     "data": {
      "text/html": [
       "<div>\n",
       "<table border=\"1\" class=\"dataframe\">\n",
       "  <thead>\n",
       "    <tr style=\"text-align: right;\">\n",
       "      <th></th>\n",
       "      <th>Age</th>\n",
       "      <th>Fare</th>\n",
       "      <th>Parch</th>\n",
       "      <th>Pclass</th>\n",
       "      <th>Sex</th>\n",
       "      <th>SibSp</th>\n",
       "      <th>Survived</th>\n",
       "    </tr>\n",
       "  </thead>\n",
       "  <tbody>\n",
       "    <tr>\n",
       "      <th>0</th>\n",
       "      <td>22.0</td>\n",
       "      <td>7.2500</td>\n",
       "      <td>0</td>\n",
       "      <td>0</td>\n",
       "      <td>0</td>\n",
       "      <td>1</td>\n",
       "      <td>0.0</td>\n",
       "    </tr>\n",
       "    <tr>\n",
       "      <th>1</th>\n",
       "      <td>38.0</td>\n",
       "      <td>71.2833</td>\n",
       "      <td>0</td>\n",
       "      <td>1</td>\n",
       "      <td>1</td>\n",
       "      <td>1</td>\n",
       "      <td>1.0</td>\n",
       "    </tr>\n",
       "    <tr>\n",
       "      <th>2</th>\n",
       "      <td>26.0</td>\n",
       "      <td>7.9250</td>\n",
       "      <td>0</td>\n",
       "      <td>0</td>\n",
       "      <td>1</td>\n",
       "      <td>0</td>\n",
       "      <td>1.0</td>\n",
       "    </tr>\n",
       "    <tr>\n",
       "      <th>3</th>\n",
       "      <td>35.0</td>\n",
       "      <td>53.1000</td>\n",
       "      <td>0</td>\n",
       "      <td>1</td>\n",
       "      <td>1</td>\n",
       "      <td>1</td>\n",
       "      <td>1.0</td>\n",
       "    </tr>\n",
       "    <tr>\n",
       "      <th>4</th>\n",
       "      <td>35.0</td>\n",
       "      <td>8.0500</td>\n",
       "      <td>0</td>\n",
       "      <td>0</td>\n",
       "      <td>0</td>\n",
       "      <td>0</td>\n",
       "      <td>0.0</td>\n",
       "    </tr>\n",
       "  </tbody>\n",
       "</table>\n",
       "</div>"
      ],
      "text/plain": [
       "    Age     Fare  Parch  Pclass  Sex  SibSp  Survived\n",
       "0  22.0   7.2500      0       0    0      1       0.0\n",
       "1  38.0  71.2833      0       1    1      1       1.0\n",
       "2  26.0   7.9250      0       0    1      0       1.0\n",
       "3  35.0  53.1000      0       1    1      1       1.0\n",
       "4  35.0   8.0500      0       0    0      0       0.0"
      ]
     },
     "execution_count": 4,
     "metadata": {},
     "output_type": "execute_result"
    }
   ],
   "source": [
    "data = pd.concat([train, test])\n",
    "\n",
    "data['Age'] = data['Age'].fillna(data['Age'].median())\n",
    "data['Fare'] = data['Fare'].fillna(data['Fare'].median())\n",
    "\n",
    "data.Sex, mapper_sex      = pd.factorize(data.Sex)\n",
    "data.Embarked, mapper_emb = pd.factorize(data.Embarked)\n",
    "data.Pclass = 1 - (data.Pclass == 3).astype(int)\n",
    "\n",
    "to_drop = ['PassengerId', 'Ticket', 'Cabin', 'Name', 'Embarked']# 'Embarked', 'Pclass', 'Parch', 'Sex', 'SibSp']\n",
    "data.drop(to_drop, axis=1, inplace=True)\n",
    "\n",
    "maxs = data.drop(\"Survived\", axis=1).max()\n",
    "\n",
    "data.head()"
   ]
  },
  {
   "cell_type": "code",
   "execution_count": 5,
   "metadata": {
    "collapsed": false
   },
   "outputs": [],
   "source": [
    "train = data[~pd.isnull(data.Survived)].fillna(0.0)\n",
    "test  = data.loc[pd.isnull(data.Survived)].fillna(0.0)\n",
    "\n",
    "test.drop('Survived', axis=1, inplace=True)"
   ]
  },
  {
   "cell_type": "markdown",
   "metadata": {},
   "source": [
    "### The good model"
   ]
  },
  {
   "cell_type": "code",
   "execution_count": 39,
   "metadata": {
    "collapsed": false
   },
   "outputs": [],
   "source": [
    "train_x = train.drop('Survived', axis=1)\n",
    "train_y = train.Survived\n",
    "\n",
    "rf = RandomForestClassifier(n_estimators=250)\n",
    "rf.fit(train_x, train_y)\n",
    "\n",
    "preds = rf.predict_proba(test)"
   ]
  },
  {
   "cell_type": "markdown",
   "metadata": {},
   "source": [
    "### The noisy model"
   ]
  },
  {
   "cell_type": "code",
   "execution_count": 50,
   "metadata": {
    "collapsed": false
   },
   "outputs": [],
   "source": [
    "class NoisyRf(RandomForestClassifier):\n",
    "    def predict_proba(self, test_set):\n",
    "        preds_1 = super(NoisyRf, self).predict_proba(test_set)[:,1]\n",
    "        preds_1 += np.random.normal(0, 0.3, size=preds_1.shape)\n",
    "        preds_1 = np.array(list(map(lambda x: 0 if x < 0 else 1 if x > 1 else x, preds_1)))\n",
    "        return preds_1\n",
    "\n",
    "    def predict(self, test_set):\n",
    "        probas = self.predict_proba(test_set)\n",
    "        return (probas > 0.5).astype(int)"
   ]
  },
  {
   "cell_type": "code",
   "execution_count": 51,
   "metadata": {
    "collapsed": false
   },
   "outputs": [],
   "source": [
    "noisy_rf = NoisyRf(n_estimators=250)\n",
    "noisy_rf.fit(train_x, train_y)\n",
    "\n",
    "noisy_preds = noisy_rf.predict_proba(test)"
   ]
  },
  {
   "cell_type": "code",
   "execution_count": 52,
   "metadata": {
    "collapsed": false
   },
   "outputs": [
    {
     "data": {
      "image/png": "[encoded data removed]",
      "text/plain": [
       "<matplotlib.figure.Figure at 0x11423c0b8>"
      ]
     },
     "metadata": {},
     "output_type": "display_data"
    }
   ],
   "source": [
    "from sklearn.metrics import roc_curve\n",
    "\n",
    "train_pred = rf.predict_proba(train_x)\n",
    "train_pred_no = noisy_rf.predict_proba(train_x)\n",
    "\n",
    "fpr_t, tpr_t, thres_t = roc_curve(train_y, train_pred_no)\n",
    "fpr_v, tpr_v, thres_v = roc_curve(train_y, train_pred[:,1])\n",
    "\n",
    "import matplotlib.pyplot as plt\n",
    "import seaborn as sns\n",
    "\n",
    "fig = plt.figure(figsize=(8,6))\n",
    "plt.plot(fpr_t, tpr_t, '-')\n",
    "plt.plot(fpr_v, tpr_v, '-')\n",
    "plt.ylabel('True positive rate')\n",
    "plt.xlabel('False positive rate')\n",
    "plt.show()"
   ]
  },
  {
   "cell_type": "markdown",
   "metadata": {},
   "source": [
    "### Pick random points in the dataset"
   ]
  },
  {
   "cell_type": "code",
   "execution_count": 91,
   "metadata": {
    "collapsed": true
   },
   "outputs": [],
   "source": [
    "pts_ids = np.random.randint(test.shape[0], size=(15))\n",
    "points = test.iloc[pts_ids]"
   ]
  },
  {
   "cell_type": "code",
   "execution_count": 93,
   "metadata": {
    "collapsed": false
   },
   "outputs": [],
   "source": [
    "pred, bias, contrib = treeinterpreter.predict(rf, points)\n",
    "contrib = pd.DataFrame(contrib[:,:,1], columns=test.columns)"
   ]
  },
  {
   "cell_type": "code",
   "execution_count": 79,
   "metadata": {
    "collapsed": false
   },
   "outputs": [],
   "source": [
    "c = contrib.iloc[14]"
   ]
  },
  {
   "cell_type": "code",
   "execution_count": 81,
   "metadata": {
    "collapsed": false,
    "scrolled": true
   },
   "outputs": [
    {
     "data": {
      "image/png": "[encoded data removed]",
      "text/plain": [
       "<matplotlib.figure.Figure at 0x11ebfa5c0>"
      ]
     },
     "metadata": {},
     "output_type": "display_data"
    }
   ],
   "source": [
    "fig = sns.plt.figure(figsize=(7, 3))\n",
    "\n",
    "srtd = c.sort_values()\n",
    "sns.barplot(srtd.values, srtd.index)\n",
    "\n",
    "fig.savefig('../report/img/titanic-treeinterpreter-rich.svg')"
   ]
  },
  {
   "cell_type": "code",
   "execution_count": 82,
   "metadata": {
    "collapsed": false
   },
   "outputs": [],
   "source": [
    "cumsum = np.array([sum(c.values[:i]) for i in range(c.shape[0] + 1)]) + bias[14, 1]\n",
    "labels = ['Base'] + c.index.tolist()"
   ]
  },
  {
   "cell_type": "code",
   "execution_count": 83,
   "metadata": {
    "collapsed": false
   },
   "outputs": [
    {
     "data": {
      "text/plain": [
       "array([ 0.3845477 ,  0.37541332,  0.51147835,  0.5121517 ,  0.62669582,\n",
       "        0.95619155,  0.976     ])"
      ]
     },
     "execution_count": 83,
     "metadata": {},
     "output_type": "execute_result"
    }
   ],
   "source": [
    "cumsum"
   ]
  },
  {
   "cell_type": "code",
   "execution_count": 84,
   "metadata": {
    "collapsed": false
   },
   "outputs": [
    {
     "name": "stderr",
     "output_type": "stream",
     "text": [
      "/Users/marcbeillevaire/anaconda/lib/python3.6/site-packages/ipykernel/__main__.py:9: VisibleDeprecationWarning: using a non-integer number instead of an integer will result in an error in the future\n"
     ]
    }
   ],
   "source": [
    "freq = 100.0\n",
    "xlbl = []\n",
    "for l in labels:\n",
    "    xlbl.append(l)\n",
    "    xlbl.append(\"\")\n",
    "\n",
    "x = [i / 2 if i % 2 == 0 else int(i / 2) + 0.99 for i in range(len(xlbl))]\n",
    "\n",
    "y = [cumsum[i / 2] for i in range(len(xlbl))]"
   ]
  },
  {
   "cell_type": "code",
   "execution_count": 85,
   "metadata": {
    "collapsed": false
   },
   "outputs": [
    {
     "data": {
      "image/png": "[encoded data removed]",
      "text/plain": [
       "<matplotlib.figure.Figure at 0x11ecb5198>"
      ]
     },
     "metadata": {},
     "output_type": "display_data"
    }
   ],
   "source": [
    "fig = plt.figure(figsize=(7, 3))\n",
    "\n",
    "plt.xticks(x, xlbl)\n",
    "plt.plot(x,y)\n",
    "plt.show()\n",
    "\n",
    "fig.savefig('../report/img/1-2-2.svg')"
   ]
  },
  {
   "cell_type": "markdown",
   "metadata": {
    "collapsed": true
   },
   "source": [
    "## Mode features influence"
   ]
  },
  {
   "cell_type": "code",
   "execution_count": 86,
   "metadata": {
    "collapsed": false
   },
   "outputs": [
    {
     "data": {
      "text/plain": [
       "Age       28.0000\n",
       "Fare      14.4542\n",
       "Parch      0.0000\n",
       "Pclass     0.0000\n",
       "Sex        0.0000\n",
       "SibSp      0.0000\n",
       "dtype: float64"
      ]
     },
     "execution_count": 86,
     "metadata": {},
     "output_type": "execute_result"
    }
   ],
   "source": [
    "test.median()"
   ]
  },
  {
   "cell_type": "code",
   "execution_count": 87,
   "metadata": {
    "collapsed": false
   },
   "outputs": [],
   "source": [
    "pred, bias, contrib = treeinterpreter.predict(rf, test.mode())\n",
    "contrib = pd.DataFrame(contrib[:,:,1], columns=test.columns)"
   ]
  },
  {
   "cell_type": "code",
   "execution_count": 88,
   "metadata": {
    "collapsed": false
   },
   "outputs": [
    {
     "data": {
      "image/png": "[encoded data removed]",
      "text/plain": [
       "<matplotlib.figure.Figure at 0x11e8cc898>"
      ]
     },
     "metadata": {},
     "output_type": "display_data"
    }
   ],
   "source": [
    "fig = plt.figure(figsize=(7, 3))\n",
    "\n",
    "c = contrib.loc[0]\n",
    "srtd = c.sort_values()\n",
    "sns.barplot(srtd.values, srtd.index)\n",
    "\n",
    "fig.savefig('../report/img/titanic-treeint-mode.svg')"
   ]
  },
  {
   "cell_type": "code",
   "execution_count": null,
   "metadata": {
    "collapsed": true
   },
   "outputs": [],
   "source": []
  }
 ],
 "metadata": {
  "kernelspec": {
   "display_name": "Python 3",
   "language": "python",
   "name": "python3"
  },
  "language_info": {
   "codemirror_mode": {
    "name": "ipython",
    "version": 3
   },
   "file_extension": ".py",
   "mimetype": "text/x-python",
   "name": "python",
   "nbconvert_exporter": "python",
   "pygments_lexer": "ipython3",
   "version": "3.6.0"
  }
 },
 "nbformat": 4,
 "nbformat_minor": 0
}
