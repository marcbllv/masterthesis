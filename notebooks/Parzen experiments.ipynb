{
 "cells": [
  {
   "cell_type": "markdown",
   "metadata": {},
   "source": [
    "# Kernel density estimation\n",
    "\n",
    "Tests on the titanic dataset."
   ]
  },
  {
   "cell_type": "code",
   "execution_count": 26,
   "metadata": {
    "collapsed": true
   },
   "outputs": [],
   "source": [
    "import pandas as pd\n",
    "import numpy as np\n",
    "import scipy\n",
    "import sampyl as smp\n",
    "import seaborn as sns\n",
    "from statsmodels.nonparametric.kernel_density import KDEMultivariate\n",
    "from sklearn.ensemble import RandomForestClassifier\n",
    "%matplotlib inline"
   ]
  },
  {
   "cell_type": "code",
   "execution_count": 27,
   "metadata": {
    "collapsed": true
   },
   "outputs": [],
   "source": [
    "train = pd.read_csv('./datasets/titanic_train.csv')\n",
    "test  = pd.read_csv('./datasets/titanic_test.csv')"
   ]
  },
  {
   "cell_type": "markdown",
   "metadata": {},
   "source": [
    "### Data preparation + modeling"
   ]
  },
  {
   "cell_type": "code",
   "execution_count": 29,
   "metadata": {
    "collapsed": false
   },
   "outputs": [
    {
     "data": {
      "text/html": [
       "<div>\n",
       "<table border=\"1\" class=\"dataframe\">\n",
       "  <thead>\n",
       "    <tr style=\"text-align: right;\">\n",
       "      <th></th>\n",
       "      <th>Age</th>\n",
       "      <th>Embarked</th>\n",
       "      <th>Fare</th>\n",
       "      <th>Parch</th>\n",
       "      <th>Pclass</th>\n",
       "      <th>Sex</th>\n",
       "      <th>SibSp</th>\n",
       "      <th>Survived</th>\n",
       "    </tr>\n",
       "  </thead>\n",
       "  <tbody>\n",
       "    <tr>\n",
       "      <th>0</th>\n",
       "      <td>22.0</td>\n",
       "      <td>0</td>\n",
       "      <td>7.2500</td>\n",
       "      <td>0</td>\n",
       "      <td>3</td>\n",
       "      <td>0</td>\n",
       "      <td>1</td>\n",
       "      <td>0.0</td>\n",
       "    </tr>\n",
       "    <tr>\n",
       "      <th>1</th>\n",
       "      <td>38.0</td>\n",
       "      <td>1</td>\n",
       "      <td>71.2833</td>\n",
       "      <td>0</td>\n",
       "      <td>1</td>\n",
       "      <td>1</td>\n",
       "      <td>1</td>\n",
       "      <td>1.0</td>\n",
       "    </tr>\n",
       "    <tr>\n",
       "      <th>2</th>\n",
       "      <td>26.0</td>\n",
       "      <td>0</td>\n",
       "      <td>7.9250</td>\n",
       "      <td>0</td>\n",
       "      <td>3</td>\n",
       "      <td>1</td>\n",
       "      <td>0</td>\n",
       "      <td>1.0</td>\n",
       "    </tr>\n",
       "    <tr>\n",
       "      <th>3</th>\n",
       "      <td>35.0</td>\n",
       "      <td>0</td>\n",
       "      <td>53.1000</td>\n",
       "      <td>0</td>\n",
       "      <td>1</td>\n",
       "      <td>1</td>\n",
       "      <td>1</td>\n",
       "      <td>1.0</td>\n",
       "    </tr>\n",
       "    <tr>\n",
       "      <th>4</th>\n",
       "      <td>35.0</td>\n",
       "      <td>0</td>\n",
       "      <td>8.0500</td>\n",
       "      <td>0</td>\n",
       "      <td>3</td>\n",
       "      <td>0</td>\n",
       "      <td>0</td>\n",
       "      <td>0.0</td>\n",
       "    </tr>\n",
       "  </tbody>\n",
       "</table>\n",
       "</div>"
      ],
      "text/plain": [
       "    Age  Embarked     Fare  Parch  Pclass  Sex  SibSp  Survived\n",
       "0  22.0         0   7.2500      0       3    0      1       0.0\n",
       "1  38.0         1  71.2833      0       1    1      1       1.0\n",
       "2  26.0         0   7.9250      0       3    1      0       1.0\n",
       "3  35.0         0  53.1000      0       1    1      1       1.0\n",
       "4  35.0         0   8.0500      0       3    0      0       0.0"
      ]
     },
     "execution_count": 29,
     "metadata": {},
     "output_type": "execute_result"
    }
   ],
   "source": [
    "data = pd.concat([train, test])\n",
    "\n",
    "data['Age'] = data['Age'].fillna(data['Age'].median())\n",
    "data['Fare'] = data['Fare'].fillna(data['Fare'].median())\n",
    "\n",
    "data.Sex, mapper_sex      = pd.factorize(data.Sex)\n",
    "data.Embarked, mapper_emb = pd.factorize(data.Embarked)\n",
    "\n",
    "to_drop = ['PassengerId', 'Ticket', 'Cabin', 'Name']# 'Embarked', 'Pclass', 'Parch', 'Sex', 'SibSp']\n",
    "data.drop(to_drop, axis=1, inplace=True)\n",
    "\n",
    "maxs = data.drop(\"Survived\", axis=1).max()\n",
    "\n",
    "data.head()"
   ]
  },
  {
   "cell_type": "code",
   "execution_count": 30,
   "metadata": {
    "collapsed": false
   },
   "outputs": [],
   "source": [
    "# Normalizing\n",
    "cont = ['Age', 'Fare']\n",
    "cate = ['Embarked', 'Parch', 'Pclass', 'Sex', 'SibSp']\n",
    "\n",
    "normalized = data.copy()\n",
    "#normalized[cont] = (normalized[cont] - normalized[cont].mean()) / normalized[cont].std()\n",
    "\n",
    "train = normalized[~normalized.Survived.isnull()]\n",
    "test = normalized[normalized.Survived.isnull()].drop(\"Survived\", axis=1)"
   ]
  },
  {
   "cell_type": "code",
   "execution_count": 31,
   "metadata": {
    "collapsed": false
   },
   "outputs": [],
   "source": [
    "train_x = train.drop('Survived', axis=1)\n",
    "train_y = train.Survived\n",
    "\n",
    "rf = RandomForestClassifier(n_estimators=250)\n",
    "rf.fit(train_x, train_y)\n",
    "\n",
    "preds = rf.predict(test)"
   ]
  },
  {
   "cell_type": "markdown",
   "metadata": {},
   "source": [
    "### Kernel density estimation"
   ]
  },
  {
   "cell_type": "code",
   "execution_count": 77,
   "metadata": {
    "collapsed": false
   },
   "outputs": [
    {
     "data": {
      "text/plain": [
       "Age         28.00\n",
       "Embarked     0.00\n",
       "Fare         7.75\n",
       "Parch        0.00\n",
       "Pclass       3.00\n",
       "Sex          0.00\n",
       "SibSp        0.00\n",
       "Name: 0, dtype: float64"
      ]
     },
     "execution_count": 77,
     "metadata": {},
     "output_type": "execute_result"
    }
   ],
   "source": [
    "X = test.mode().loc[0]\n",
    "X"
   ]
  },
  {
   "cell_type": "markdown",
   "metadata": {
    "collapsed": true
   },
   "source": [
    "# Sample from unknown - then KDE"
   ]
  },
  {
   "cell_type": "code",
   "execution_count": 78,
   "metadata": {
    "collapsed": false,
    "scrolled": true
   },
   "outputs": [
    {
     "data": {
      "text/plain": [
       "0.31312307692307689"
      ]
     },
     "execution_count": 78,
     "metadata": {},
     "output_type": "execute_result"
    }
   ],
   "source": [
    "rf.predict_proba([X.values])[0,1]"
   ]
  },
  {
   "cell_type": "code",
   "execution_count": 79,
   "metadata": {
    "collapsed": false,
    "scrolled": false
   },
   "outputs": [
    {
     "name": "stdout",
     "output_type": "stream",
     "text": [
      "Progress: [###########-------------------] 3508 of 10000 samples"
     ]
    },
    {
     "name": "stderr",
     "output_type": "stream",
     "text": [
      "/Users/marcbeillevaire/anaconda/lib/python3.6/site-packages/ipykernel/__main__.py:21: RuntimeWarning: divide by zero encountered in log\n"
     ]
    },
    {
     "name": "stdout",
     "output_type": "stream",
     "text": [
      "Progress: [##############################] 10000 of 10000 samples\n"
     ]
    }
   ],
   "source": [
    "# To use automatic gradient calculations, use numpy (np) provided\n",
    "# by autograd through Sampyl\n",
    "\n",
    "#icov = np.linalg.inv(np.array([[1., .8], [.8, 1.]]))\n",
    "\n",
    "N_obs = 10000\n",
    "\n",
    "def logp(Age, Embarked, Fare, Parch, Pclass, Sex, SibSp):\n",
    "    Embarked = np.floor(Embarked).astype(int)\n",
    "    Parch = np.floor(Parch).astype(int)\n",
    "    Pclass = np.floor(Pclass).astype(int)\n",
    "    Sex = np.floor(Sex).astype(int)\n",
    "    SibSp = np.floor(SibSp).astype(int)\n",
    "        \n",
    "    d = np.array([Age, Embarked, Fare, Parch, Pclass, Sex, SibSp])\n",
    "    #d = np.array([Age, Fare])\n",
    "    \n",
    "    if (d > maxs).any() or (d < 0).any():\n",
    "        return -np.infty\n",
    "\n",
    "    return np.log(1 - rf.predict_proba([d])[0,1])\n",
    "\n",
    "start = X.to_dict()\n",
    "metro_hast = smp.Metropolis(logp, start)\n",
    "chain = metro_hast.sample(N_obs)"
   ]
  },
  {
   "cell_type": "code",
   "execution_count": 80,
   "metadata": {
    "collapsed": false
   },
   "outputs": [
    {
     "data": {
      "text/plain": [
       "<seaborn.axisgrid.JointGrid at 0x114ffbc88>"
      ]
     },
     "execution_count": 80,
     "metadata": {},
     "output_type": "execute_result"
    },
    {
     "data": {
      "image/png": "[encoded data removed]",
      "text/plain": [
       "<matplotlib.figure.Figure at 0x114ffbdd8>"
      ]
     },
     "metadata": {},
     "output_type": "display_data"
    }
   ],
   "source": [
    "sns.jointplot(chain.Fare, chain.Age, stat_func=None)"
   ]
  },
  {
   "cell_type": "markdown",
   "metadata": {},
   "source": [
    "### Kernel density estimation"
   ]
  },
  {
   "cell_type": "code",
   "execution_count": 67,
   "metadata": {
    "collapsed": false
   },
   "outputs": [],
   "source": [
    "n_dim = X.shape[0]\n",
    "\n",
    "smpld = chain.view((np.float, n_dim))"
   ]
  },
  {
   "cell_type": "code",
   "execution_count": 68,
   "metadata": {
    "collapsed": false
   },
   "outputs": [],
   "source": [
    "density = KDEMultivariate(data=smpld, var_type='c' * n_dim, bw='normal_reference')\n",
    "bw = density.bw"
   ]
  },
  {
   "cell_type": "code",
   "execution_count": 69,
   "metadata": {
    "collapsed": false
   },
   "outputs": [],
   "source": [
    "def pdf_deriv(x, samples):\n",
    "    coef =  1 / (N_obs * (np.sqrt(2 * np.pi)**n))\n",
    "    mtrx = [-0.5 * sum((x - x_i) * (x - x_i) / (bw * bw)) for x_i in samples]\n",
    "    deriv_vector = -0.5 * np.array([(x - x_i) / (bw * bw) for x_i in samples])\n",
    "\n",
    "    return (coef * np.sum(np.exp(mtrx)) / np.prod(bw)) * np.sum(deriv_vector, axis=0)\n",
    "\n",
    "def contribution(X, samples):\n",
    "    contribs = pd.Series(pdf_deriv(X, samples), index=train_x.columns).sort_values()\n",
    "    return contribs / contribs.sum()"
   ]
  },
  {
   "cell_type": "code",
   "execution_count": 71,
   "metadata": {
    "collapsed": false
   },
   "outputs": [],
   "source": [
    "ctrb = contribution(X, smpld)"
   ]
  },
  {
   "cell_type": "code",
   "execution_count": 73,
   "metadata": {
    "collapsed": false
   },
   "outputs": [
    {
     "data": {
      "image/png": "[encoded data removed]",
      "text/plain": [
       "<matplotlib.figure.Figure at 0x114f3c898>"
      ]
     },
     "metadata": {},
     "output_type": "display_data"
    }
   ],
   "source": [
    "fig = sns.plt.figure(figsize=(7, 3))\n",
    "\n",
    "sns.barplot(ctrb.values, ctrb.index)\n",
    "\n",
    "fig.savefig('../report/img/1-2-1.svg')"
   ]
  },
  {
   "cell_type": "code",
   "execution_count": null,
   "metadata": {
    "collapsed": true
   },
   "outputs": [],
   "source": []
  }
 ],
 "metadata": {
  "kernelspec": {
   "display_name": "Python 3",
   "language": "python",
   "name": "python3"
  },
  "language_info": {
   "codemirror_mode": {
    "name": "ipython",
    "version": 3
   },
   "file_extension": ".py",
   "mimetype": "text/x-python",
   "name": "python",
   "nbconvert_exporter": "python",
   "pygments_lexer": "ipython3",
   "version": "3.6.0"
  }
 },
 "nbformat": 4,
 "nbformat_minor": 0
}
