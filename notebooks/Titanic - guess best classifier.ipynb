{
 "cells": [
  {
   "cell_type": "code",
   "execution_count": 1,
   "metadata": {
    "collapsed": false
   },
   "outputs": [
    {
     "name": "stderr",
     "output_type": "stream",
     "text": [
      "/Users/marcbeillevaire/anaconda/envs/datapred/lib/python3.6/site-packages/IPython/html.py:14: ShimWarning: The `IPython.html` package has been deprecated since IPython 4.0. You should import from `notebook` instead. `IPython.html.widgets` has moved to `ipywidgets`.\n",
      "  \"`IPython.html.widgets` has moved to `ipywidgets`.\", ShimWarning)\n"
     ]
    }
   ],
   "source": [
    "import pandas as pd\n",
    "import numpy as np\n",
    "import seaborn as sns\n",
    "import sampyl as smp\n",
    "from statsmodels.nonparametric.kernel_density import KDEMultivariate\n",
    "%matplotlib inline\n",
    "from sklearn.ensemble import RandomForestClassifier\n",
    "from treeinterpreter import treeinterpreter"
   ]
  },
  {
   "cell_type": "code",
   "execution_count": 2,
   "metadata": {
    "collapsed": true
   },
   "outputs": [],
   "source": [
    "train = pd.read_csv('./datasets/titanic_train.csv')\n",
    "test  = pd.read_csv('./datasets/titanic_test.csv')"
   ]
  },
  {
   "cell_type": "markdown",
   "metadata": {},
   "source": [
    "## Data preparation"
   ]
  },
  {
   "cell_type": "code",
   "execution_count": 3,
   "metadata": {
    "collapsed": false
   },
   "outputs": [
    {
     "data": {
      "text/html": [
       "<div>\n",
       "<table border=\"1\" class=\"dataframe\">\n",
       "  <thead>\n",
       "    <tr style=\"text-align: right;\">\n",
       "      <th></th>\n",
       "      <th>Age</th>\n",
       "      <th>Fare</th>\n",
       "      <th>Parch</th>\n",
       "      <th>Pclass</th>\n",
       "      <th>Sex</th>\n",
       "      <th>SibSp</th>\n",
       "      <th>Survived</th>\n",
       "    </tr>\n",
       "  </thead>\n",
       "  <tbody>\n",
       "    <tr>\n",
       "      <th>0</th>\n",
       "      <td>22.0</td>\n",
       "      <td>7.2500</td>\n",
       "      <td>0</td>\n",
       "      <td>0</td>\n",
       "      <td>0</td>\n",
       "      <td>1</td>\n",
       "      <td>0.0</td>\n",
       "    </tr>\n",
       "    <tr>\n",
       "      <th>1</th>\n",
       "      <td>38.0</td>\n",
       "      <td>71.2833</td>\n",
       "      <td>0</td>\n",
       "      <td>1</td>\n",
       "      <td>1</td>\n",
       "      <td>1</td>\n",
       "      <td>1.0</td>\n",
       "    </tr>\n",
       "    <tr>\n",
       "      <th>2</th>\n",
       "      <td>26.0</td>\n",
       "      <td>7.9250</td>\n",
       "      <td>0</td>\n",
       "      <td>0</td>\n",
       "      <td>1</td>\n",
       "      <td>0</td>\n",
       "      <td>1.0</td>\n",
       "    </tr>\n",
       "    <tr>\n",
       "      <th>3</th>\n",
       "      <td>35.0</td>\n",
       "      <td>53.1000</td>\n",
       "      <td>0</td>\n",
       "      <td>1</td>\n",
       "      <td>1</td>\n",
       "      <td>1</td>\n",
       "      <td>1.0</td>\n",
       "    </tr>\n",
       "    <tr>\n",
       "      <th>4</th>\n",
       "      <td>35.0</td>\n",
       "      <td>8.0500</td>\n",
       "      <td>0</td>\n",
       "      <td>0</td>\n",
       "      <td>0</td>\n",
       "      <td>0</td>\n",
       "      <td>0.0</td>\n",
       "    </tr>\n",
       "  </tbody>\n",
       "</table>\n",
       "</div>"
      ],
      "text/plain": [
       "    Age     Fare  Parch  Pclass  Sex  SibSp  Survived\n",
       "0  22.0   7.2500      0       0    0      1       0.0\n",
       "1  38.0  71.2833      0       1    1      1       1.0\n",
       "2  26.0   7.9250      0       0    1      0       1.0\n",
       "3  35.0  53.1000      0       1    1      1       1.0\n",
       "4  35.0   8.0500      0       0    0      0       0.0"
      ]
     },
     "execution_count": 3,
     "metadata": {},
     "output_type": "execute_result"
    }
   ],
   "source": [
    "data = pd.concat([train, test])\n",
    "\n",
    "data['Age'] = data['Age'].fillna(data['Age'].median())\n",
    "data['Fare'] = data['Fare'].fillna(data['Fare'].median())\n",
    "\n",
    "data.Sex, mapper_sex      = pd.factorize(data.Sex)\n",
    "data.Embarked, mapper_emb = pd.factorize(data.Embarked)\n",
    "data.Pclass = 1 - (data.Pclass == 3).astype(int)\n",
    "\n",
    "to_drop = ['PassengerId', 'Ticket', 'Cabin', 'Name', 'Embarked']# 'Embarked', 'Pclass', 'Parch', 'Sex', 'SibSp']\n",
    "data.drop(to_drop, axis=1, inplace=True)\n",
    "\n",
    "maxs = data.drop(\"Survived\", axis=1).max()\n",
    "\n",
    "data.head()"
   ]
  },
  {
   "cell_type": "code",
   "execution_count": 4,
   "metadata": {
    "collapsed": false
   },
   "outputs": [],
   "source": [
    "train = data[~pd.isnull(data.Survived)].fillna(0.0)\n",
    "test = train.iloc[int(train.shape[0] * 0.8):]\n",
    "train = train.iloc[:int(train.shape[0] * 0.8)]\n",
    "#test  = data.loc[pd.isnull(data.Survived)].fillna(0.0)"
   ]
  },
  {
   "cell_type": "markdown",
   "metadata": {},
   "source": [
    "### The good model"
   ]
  },
  {
   "cell_type": "code",
   "execution_count": 89,
   "metadata": {
    "collapsed": false
   },
   "outputs": [],
   "source": [
    "train_x = train.drop('Survived', axis=1)\n",
    "train_y = train.Survived\n",
    "test_x = test.drop(\"Survived\", axis=1)\n",
    "test_y = test.Survived\n",
    "\n",
    "rf = RandomForestClassifier(n_estimators=200, max_leaf_nodes=-1, min_samples_leaf=4)\n",
    "rf.fit(train_x, train_y)\n",
    "\n",
    "preds = rf.predict_proba(test_x)[:,1]"
   ]
  },
  {
   "cell_type": "markdown",
   "metadata": {},
   "source": [
    "### The noisy model"
   ]
  },
  {
   "cell_type": "code",
   "execution_count": 90,
   "metadata": {
    "collapsed": false
   },
   "outputs": [],
   "source": [
    "# Change some of the targets (20%)\n",
    "pts_ids = np.random.randint(train.shape[0], size=(int(train.shape[0] * 0.5)))\n",
    "noisy_train_y = train_y.copy()\n",
    "for i in pts_ids:\n",
    "    noisy_train_y.iloc[i] = 1 - noisy_train_y.iloc[i]"
   ]
  },
  {
   "cell_type": "code",
   "execution_count": 91,
   "metadata": {
    "collapsed": false
   },
   "outputs": [],
   "source": [
    "noisy_rf = RandomForestClassifier(n_estimators=250)\n",
    "noisy_rf.fit(train_x, noisy_train_y)\n",
    "\n",
    "noisy_preds = noisy_rf.predict_proba(test_x)[:,1]"
   ]
  },
  {
   "cell_type": "code",
   "execution_count": 92,
   "metadata": {
    "collapsed": false
   },
   "outputs": [
    {
     "name": "stdout",
     "output_type": "stream",
     "text": [
      "0.913451086957\n",
      "0.712975543478\n"
     ]
    },
    {
     "data": {
      "image/png": "[encoded data removed]",
      "text/plain": [
       "<matplotlib.figure.Figure at 0x1135d8668>"
      ]
     },
     "metadata": {},
     "output_type": "display_data"
    }
   ],
   "source": [
    "from sklearn.metrics import roc_curve, roc_auc_score\n",
    "\n",
    "print(roc_auc_score(test_y.astype(int), preds))\n",
    "print(roc_auc_score(test_y.astype(int), noisy_preds))\n",
    "\n",
    "fpr_t, tpr_t, thres_t = roc_curve(test_y, preds)\n",
    "fpr_v, tpr_v, thres_v = roc_curve(test_y, noisy_preds)\n",
    "\n",
    "import matplotlib.pyplot as plt\n",
    "import seaborn as sns\n",
    "\n",
    "fig = plt.figure(figsize=(8,6))\n",
    "plt.plot(fpr_t, tpr_t, '-')\n",
    "plt.plot(fpr_v, tpr_v, '-')\n",
    "plt.ylabel('True positive rate')\n",
    "plt.xlabel('False positive rate')\n",
    "plt.show()"
   ]
  },
  {
   "cell_type": "markdown",
   "metadata": {},
   "source": [
    "### Pick random points in the dataset"
   ]
  },
  {
   "cell_type": "code",
   "execution_count": 23,
   "metadata": {
    "collapsed": false
   },
   "outputs": [
    {
     "name": "stdout",
     "output_type": "stream",
     "text": [
      "Age       22.0000\n",
      "Fare      10.5167\n",
      "Parch      0.0000\n",
      "Pclass     0.0000\n",
      "Sex        1.0000\n",
      "SibSp      0.0000\n",
      "Name: 882, dtype: float64\n",
      "Truth: 0.0.\n",
      "[[ 0.55  0.45]]\n",
      "[[ 0.168  0.832]]\n"
     ]
    }
   ],
   "source": [
    "pts_ids = np.random.randint(test.shape[0], size=(1))\n",
    "X = test_x.iloc[pts_ids[0]]\n",
    "\n",
    "idx = pts_ids[0]\n",
    "\n",
    "print(X)\n",
    "print(\"Truth: {0}.\".format(test_y.iloc[idx]))\n",
    "print(rf.predict_proba([X]))\n",
    "print(noisy_rf.predict_proba([X]))"
   ]
  },
  {
   "cell_type": "markdown",
   "metadata": {},
   "source": [
    "### Explain"
   ]
  },
  {
   "cell_type": "code",
   "execution_count": 25,
   "metadata": {
    "collapsed": false
   },
   "outputs": [
    {
     "name": "stderr",
     "output_type": "stream",
     "text": [
      "/Users/marcbeillevaire/Google Drive/repos/scikit-learn-0.18_kpp/sklearn/utils/validation.py:395: DeprecationWarning: Passing 1d arrays as data is deprecated in 0.17 and will raise ValueError in 0.19. Reshape your data either using X.reshape(-1, 1) if your data has a single feature or X.reshape(1, -1) if it contains a single sample.\n",
      "  DeprecationWarning)\n"
     ]
    },
    {
     "ename": "IndexError",
     "evalue": "tuple index out of range",
     "output_type": "error",
     "traceback": [
      "\u001b[0;31m---------------------------------------------------------------------------\u001b[0m",
      "\u001b[0;31mIndexError\u001b[0m                                Traceback (most recent call last)",
      "\u001b[0;32m<ipython-input-25-bc5248eabe6d>\u001b[0m in \u001b[0;36m<module>\u001b[0;34m()\u001b[0m\n\u001b[0;32m----> 1\u001b[0;31m \u001b[0mpred\u001b[0m\u001b[0;34m,\u001b[0m \u001b[0mbias\u001b[0m\u001b[0;34m,\u001b[0m \u001b[0mcontrib\u001b[0m \u001b[0;34m=\u001b[0m \u001b[0mtreeinterpreter\u001b[0m\u001b[0;34m.\u001b[0m\u001b[0mpredict\u001b[0m\u001b[0;34m(\u001b[0m\u001b[0mrf\u001b[0m\u001b[0;34m,\u001b[0m \u001b[0mX\u001b[0m\u001b[0;34m)\u001b[0m\u001b[0;34m\u001b[0m\u001b[0m\n\u001b[0m\u001b[1;32m      2\u001b[0m \u001b[0mcontrib\u001b[0m \u001b[0;34m=\u001b[0m \u001b[0mpd\u001b[0m\u001b[0;34m.\u001b[0m\u001b[0mDataFrame\u001b[0m\u001b[0;34m(\u001b[0m\u001b[0mcontrib\u001b[0m\u001b[0;34m[\u001b[0m\u001b[0;34m:\u001b[0m\u001b[0;34m,\u001b[0m\u001b[0;34m:\u001b[0m\u001b[0;34m,\u001b[0m\u001b[0;36m1\u001b[0m\u001b[0;34m]\u001b[0m\u001b[0;34m,\u001b[0m \u001b[0mcolumns\u001b[0m\u001b[0;34m=\u001b[0m\u001b[0mtest_x\u001b[0m\u001b[0;34m.\u001b[0m\u001b[0mcolumns\u001b[0m\u001b[0;34m)\u001b[0m\u001b[0;34m\u001b[0m\u001b[0m\n\u001b[1;32m      3\u001b[0m \u001b[0mc\u001b[0m \u001b[0;34m=\u001b[0m \u001b[0mcontrib\u001b[0m\u001b[0;34m.\u001b[0m\u001b[0miloc\u001b[0m\u001b[0;34m[\u001b[0m\u001b[0;36m0\u001b[0m\u001b[0;34m]\u001b[0m\u001b[0;34m\u001b[0m\u001b[0m\n\u001b[1;32m      4\u001b[0m \u001b[0;34m\u001b[0m\u001b[0m\n\u001b[1;32m      5\u001b[0m \u001b[0msrtd\u001b[0m \u001b[0;34m=\u001b[0m \u001b[0mc\u001b[0m\u001b[0;34m.\u001b[0m\u001b[0msort_values\u001b[0m\u001b[0;34m(\u001b[0m\u001b[0;34m)\u001b[0m\u001b[0;34m\u001b[0m\u001b[0m\n",
      "\u001b[0;32m/Users/marcbeillevaire/anaconda/envs/datapred/lib/python3.6/site-packages/treeinterpreter/treeinterpreter.py\u001b[0m in \u001b[0;36mpredict\u001b[0;34m(model, X, joint_contribution)\u001b[0m\n\u001b[1;32m    201\u001b[0m     elif (type(model) == RandomForestRegressor or\n\u001b[1;32m    202\u001b[0m           type(model) == RandomForestClassifier):\n\u001b[0;32m--> 203\u001b[0;31m         \u001b[0;32mreturn\u001b[0m \u001b[0m_predict_forest\u001b[0m\u001b[0;34m(\u001b[0m\u001b[0mmodel\u001b[0m\u001b[0;34m,\u001b[0m \u001b[0mX\u001b[0m\u001b[0;34m,\u001b[0m \u001b[0mjoint_contribution\u001b[0m\u001b[0;34m=\u001b[0m\u001b[0mjoint_contribution\u001b[0m\u001b[0;34m)\u001b[0m\u001b[0;34m\u001b[0m\u001b[0m\n\u001b[0m\u001b[1;32m    204\u001b[0m     \u001b[0;32melse\u001b[0m\u001b[0;34m:\u001b[0m\u001b[0;34m\u001b[0m\u001b[0m\n\u001b[1;32m    205\u001b[0m         \u001b[0;32mreturn\u001b[0m \u001b[0m_predict_forest\u001b[0m\u001b[0;34m(\u001b[0m\u001b[0mmodel\u001b[0m\u001b[0;34m,\u001b[0m \u001b[0mX\u001b[0m\u001b[0;34m,\u001b[0m \u001b[0mjoint_contribution\u001b[0m\u001b[0;34m=\u001b[0m\u001b[0mjoint_contribution\u001b[0m\u001b[0;34m)\u001b[0m\u001b[0;34m\u001b[0m\u001b[0m\n",
      "\u001b[0;32m/Users/marcbeillevaire/anaconda/envs/datapred/lib/python3.6/site-packages/treeinterpreter/treeinterpreter.py\u001b[0m in \u001b[0;36m_predict_forest\u001b[0;34m(model, X, joint_contribution)\u001b[0m\n\u001b[1;32m    150\u001b[0m     \u001b[0;32melse\u001b[0m\u001b[0;34m:\u001b[0m\u001b[0;34m\u001b[0m\u001b[0m\n\u001b[1;32m    151\u001b[0m         \u001b[0;32mfor\u001b[0m \u001b[0mtree\u001b[0m \u001b[0;32min\u001b[0m \u001b[0mmodel\u001b[0m\u001b[0;34m.\u001b[0m\u001b[0mestimators_\u001b[0m\u001b[0;34m:\u001b[0m\u001b[0;34m\u001b[0m\u001b[0m\n\u001b[0;32m--> 152\u001b[0;31m             \u001b[0mpred\u001b[0m\u001b[0;34m,\u001b[0m \u001b[0mbias\u001b[0m\u001b[0;34m,\u001b[0m \u001b[0mcontribution\u001b[0m \u001b[0;34m=\u001b[0m \u001b[0m_predict_tree\u001b[0m\u001b[0;34m(\u001b[0m\u001b[0mtree\u001b[0m\u001b[0;34m,\u001b[0m \u001b[0mX\u001b[0m\u001b[0;34m)\u001b[0m\u001b[0;34m\u001b[0m\u001b[0m\n\u001b[0m\u001b[1;32m    153\u001b[0m \u001b[0;34m\u001b[0m\u001b[0m\n\u001b[1;32m    154\u001b[0m             \u001b[0mbiases\u001b[0m\u001b[0;34m.\u001b[0m\u001b[0mappend\u001b[0m\u001b[0;34m(\u001b[0m\u001b[0mbias\u001b[0m\u001b[0;34m)\u001b[0m\u001b[0;34m\u001b[0m\u001b[0m\n",
      "\u001b[0;32m/Users/marcbeillevaire/anaconda/envs/datapred/lib/python3.6/site-packages/treeinterpreter/treeinterpreter.py\u001b[0m in \u001b[0;36m_predict_tree\u001b[0;34m(model, X, joint_contribution)\u001b[0m\n\u001b[1;32m     66\u001b[0m \u001b[0;34m\u001b[0m\u001b[0m\n\u001b[1;32m     67\u001b[0m         \u001b[0mbiases\u001b[0m \u001b[0;34m=\u001b[0m \u001b[0mnp\u001b[0m\u001b[0;34m.\u001b[0m\u001b[0mtile\u001b[0m\u001b[0;34m(\u001b[0m\u001b[0mvalues\u001b[0m\u001b[0;34m[\u001b[0m\u001b[0mpaths\u001b[0m\u001b[0;34m[\u001b[0m\u001b[0;36m0\u001b[0m\u001b[0;34m]\u001b[0m\u001b[0;34m[\u001b[0m\u001b[0;36m0\u001b[0m\u001b[0;34m]\u001b[0m\u001b[0;34m]\u001b[0m\u001b[0;34m,\u001b[0m \u001b[0;34m(\u001b[0m\u001b[0mX\u001b[0m\u001b[0;34m.\u001b[0m\u001b[0mshape\u001b[0m\u001b[0;34m[\u001b[0m\u001b[0;36m0\u001b[0m\u001b[0;34m]\u001b[0m\u001b[0;34m,\u001b[0m \u001b[0;36m1\u001b[0m\u001b[0;34m)\u001b[0m\u001b[0;34m)\u001b[0m\u001b[0;34m\u001b[0m\u001b[0m\n\u001b[0;32m---> 68\u001b[0;31m         \u001b[0mline_shape\u001b[0m \u001b[0;34m=\u001b[0m \u001b[0;34m(\u001b[0m\u001b[0mX\u001b[0m\u001b[0;34m.\u001b[0m\u001b[0mshape\u001b[0m\u001b[0;34m[\u001b[0m\u001b[0;36m1\u001b[0m\u001b[0;34m]\u001b[0m\u001b[0;34m,\u001b[0m \u001b[0mmodel\u001b[0m\u001b[0;34m.\u001b[0m\u001b[0mn_classes_\u001b[0m\u001b[0;34m)\u001b[0m\u001b[0;34m\u001b[0m\u001b[0m\n\u001b[0m\u001b[1;32m     69\u001b[0m     \u001b[0mdirect_prediction\u001b[0m \u001b[0;34m=\u001b[0m \u001b[0mvalues\u001b[0m\u001b[0;34m[\u001b[0m\u001b[0mleaves\u001b[0m\u001b[0;34m]\u001b[0m\u001b[0;34m\u001b[0m\u001b[0m\n\u001b[1;32m     70\u001b[0m \u001b[0;34m\u001b[0m\u001b[0m\n",
      "\u001b[0;31mIndexError\u001b[0m: tuple index out of range"
     ]
    }
   ],
   "source": [
    "pred, bias, contrib = treeinterpreter.predict(rf, X)\n",
    "contrib = pd.DataFrame(contrib[:,:,1], columns=test_x.columns)\n",
    "c = contrib.iloc[0]\n",
    "\n",
    "srtd = c.sort_values()\n",
    "sns.barplot(srtd.values, srtd.index)"
   ]
  },
  {
   "cell_type": "code",
   "execution_count": 131,
   "metadata": {
    "collapsed": false
   },
   "outputs": [
    {
     "data": {
      "text/plain": [
       "<matplotlib.axes._subplots.AxesSubplot at 0x118cff710>"
      ]
     },
     "execution_count": 131,
     "metadata": {},
     "output_type": "execute_result"
    },
    {
     "data": {
      "image/png": "[encoded data removed]",
      "text/plain": [
       "<matplotlib.figure.Figure at 0x118bd9e48>"
      ]
     },
     "metadata": {},
     "output_type": "display_data"
    }
   ],
   "source": [
    "pred_0, bias_0, contrib_0 = treeinterpreter.predict(noisy_rf, points)\n",
    "contrib_0 = pd.DataFrame(contrib_0[:,:,1], columns=test_x.columns)\n",
    "\n",
    "c = contrib_0.iloc[0]\n",
    "\n",
    "srtd = c.sort_values()\n",
    "sns.barplot(srtd.values, srtd.index)"
   ]
  },
  {
   "cell_type": "code",
   "execution_count": 148,
   "metadata": {
    "collapsed": true
   },
   "outputs": [],
   "source": [
    "from lime.lime_tabular import LimeTabularExplainer\n",
    "\n",
    "features = train_x.columns.tolist()\n",
    "def predict_fn(x):\n",
    "    return rf.predict_proba(x)\n",
    "\n",
    "def predict_fn_noisy(x):\n",
    "    return noisy_rf.predict_proba(x)\n",
    "\n",
    "explainer = LimeTabularExplainer(train_x.values, feature_names=features, kernel_width=3)\n",
    "explainer2 = LimeTabularExplainer(train_x.values, feature_names=features, kernel_width=3,\n",
    "                                  training_labels=train_y.values, discretizer='entropy')"
   ]
  },
  {
   "cell_type": "code",
   "execution_count": 151,
   "metadata": {
    "collapsed": false,
    "scrolled": true
   },
   "outputs": [
    {
     "data": {
      "text/plain": [
       "<matplotlib.axes._subplots.AxesSubplot at 0x11ab2a748>"
      ]
     },
     "execution_count": 151,
     "metadata": {},
     "output_type": "execute_result"
    },
    {
     "data": {
      "image/png": "[encoded data removed]",
      "text/plain": [
       "<matplotlib.figure.Figure at 0x119582978>"
      ]
     },
     "metadata": {},
     "output_type": "display_data"
    }
   ],
   "source": [
    "exp = explainer.explain_instance(X.values, predict_fn, num_features=6)\n",
    "m = list(zip(*exp.as_map()[1]))\n",
    "f = [features[i] for i in m[0]]\n",
    "sns.barplot(m[1], f)"
   ]
  },
  {
   "cell_type": "code",
   "execution_count": 152,
   "metadata": {
    "collapsed": false,
    "scrolled": true
   },
   "outputs": [
    {
     "data": {
      "text/plain": [
       "<matplotlib.axes._subplots.AxesSubplot at 0x1195780f0>"
      ]
     },
     "execution_count": 152,
     "metadata": {},
     "output_type": "execute_result"
    },
    {
     "data": {
      "image/png": "[encoded data removed]",
      "text/plain": [
       "<matplotlib.figure.Figure at 0x1195ab198>"
      ]
     },
     "metadata": {},
     "output_type": "display_data"
    }
   ],
   "source": [
    "exp = explainer.explain_instance(X.values, predict_fn_noisy, num_features=6)\n",
    "m = list(zip(*exp.as_map()[1]))\n",
    "f = [features[i] for i in m[0]]\n",
    "sns.barplot(m[1], f)"
   ]
  },
  {
   "cell_type": "code",
   "execution_count": 127,
   "metadata": {
    "collapsed": false,
    "scrolled": true
   },
   "outputs": [
    {
     "name": "stdout",
     "output_type": "stream",
     "text": [
      "Progress: [##############################] 3000 of 3000 samples\n"
     ]
    },
    {
     "data": {
      "image/png": "[encoded data removed]",
      "text/plain": [
       "<matplotlib.figure.Figure at 0x119837748>"
      ]
     },
     "metadata": {},
     "output_type": "display_data"
    }
   ],
   "source": [
    "explainer = ParzenExplainer(rf, train_x, X, 3000)\n",
    "explainer.explain()"
   ]
  },
  {
   "cell_type": "code",
   "execution_count": 128,
   "metadata": {
    "collapsed": false
   },
   "outputs": [
    {
     "name": "stdout",
     "output_type": "stream",
     "text": [
      "Progress: [##############################] 3000 of 3000 samples\n"
     ]
    },
    {
     "data": {
      "image/png": "[encoded data removed]",
      "text/plain": [
       "<matplotlib.figure.Figure at 0x11a4bd4a8>"
      ]
     },
     "metadata": {},
     "output_type": "display_data"
    }
   ],
   "source": [
    "explainer = ParzenExplainer(noisy_rf, train_x, X, 3000)\n",
    "explainer.explain()"
   ]
  },
  {
   "cell_type": "code",
   "execution_count": 106,
   "metadata": {
    "collapsed": true
   },
   "outputs": [],
   "source": [
    "class ParzenExplainer:\n",
    "    \n",
    "    def __init__(self, model, train_x, X, N_obs):\n",
    "        self.model = model\n",
    "        self.X = X\n",
    "        self.features = X.index\n",
    "        self.maxs = train_x.max()\n",
    "        self.mins = train_x.min()\n",
    "        self.n_dim = X.shape[0]\n",
    "        self.N_obs = N_obs\n",
    "\n",
    "    def pdf_deriv(self, x, samples, bw):\n",
    "        coef =  1 / (self.N_obs * (np.sqrt(2 * np.pi)**self.n_dim))\n",
    "        mtrx = [-0.5 * sum((x - x_i) * (x - x_i) / (bw * bw)) for x_i in samples]\n",
    "        deriv_vector = -np.array([(x - x_i) / (bw * bw) for x_i in samples])\n",
    "\n",
    "        return (coef * np.sum(np.exp(mtrx)) / np.prod(bw)) * np.sum(deriv_vector, axis=0)\n",
    "\n",
    "    def contribution(self, X, samples, bw):\n",
    "        contribs = pd.Series(self.pdf_deriv(X, samples, bw), index=self.features).sort_values()\n",
    "        return contribs\n",
    "\n",
    "    def explain(self):\n",
    "        \n",
    "        def logp(Age, Fare, Parch, Pclass, Sex, SibSp):\n",
    "            vector = np.array([\n",
    "                np.floor(Age).astype(int),\n",
    "                np.floor(Fare).astype(int),\n",
    "                np.floor(Parch).astype(int),\n",
    "                np.floor(Pclass).astype(int),\n",
    "                np.floor(Sex).astype(int),\n",
    "                np.floor(SibSp).astype(int),                \n",
    "            ])\n",
    "\n",
    "            if (vector > self.maxs).any() or (vector < 0).any():\n",
    "                return -np.infty\n",
    "\n",
    "            ret = np.log(1 - self.model.predict_proba([vector])[0,1])\n",
    "            return ret\n",
    "\n",
    "        # Start Parzen\n",
    "        start = self.X.to_dict()\n",
    "        metro_hast = smp.Metropolis(logp, start)\n",
    "        chain = metro_hast.sample(self.N_obs)\n",
    "\n",
    "        smpld = chain.view((np.float, self.n_dim))\n",
    "\n",
    "        density = KDEMultivariate(data=smpld, var_type='c' * self.n_dim, bw='normal_reference')\n",
    "        bw = density.bw\n",
    "\n",
    "        # Compute contributions\n",
    "        ctrb = self.contribution(X, smpld, bw)\n",
    "\n",
    "        # Plot\n",
    "        fig = sns.plt.figure(figsize=(7, 3))\n",
    "        sns.barplot(ctrb.values, ctrb.index)\n",
    "        fig.savefig('../report/img/1-2-1.svg')"
   ]
  },
  {
   "cell_type": "markdown",
   "metadata": {
    "collapsed": true
   },
   "source": [
    "## Mode features influence"
   ]
  },
  {
   "cell_type": "code",
   "execution_count": null,
   "metadata": {
    "collapsed": false
   },
   "outputs": [],
   "source": [
    "test.median()"
   ]
  },
  {
   "cell_type": "code",
   "execution_count": null,
   "metadata": {
    "collapsed": false
   },
   "outputs": [],
   "source": [
    "pred, bias, contrib = treeinterpreter.predict(rf, test.mode())\n",
    "contrib = pd.DataFrame(contrib[:,:,1], columns=test.columns)"
   ]
  },
  {
   "cell_type": "code",
   "execution_count": null,
   "metadata": {
    "collapsed": false
   },
   "outputs": [],
   "source": [
    "fig = plt.figure(figsize=(7, 3))\n",
    "\n",
    "c = contrib.loc[0]\n",
    "srtd = c.sort_values()\n",
    "sns.barplot(srtd.values, srtd.index)\n",
    "\n",
    "fig.savefig('../report/img/titanic-treeint-mode.svg')"
   ]
  },
  {
   "cell_type": "code",
   "execution_count": null,
   "metadata": {
    "collapsed": true
   },
   "outputs": [],
   "source": []
  }
 ],
 "metadata": {
  "kernelspec": {
   "display_name": "Python 3",
   "language": "python",
   "name": "python3"
  },
  "language_info": {
   "codemirror_mode": {
    "name": "ipython",
    "version": 3
   },
   "file_extension": ".py",
   "mimetype": "text/x-python",
   "name": "python",
   "nbconvert_exporter": "python",
   "pygments_lexer": "ipython3",
   "version": "3.6.0"
  }
 },
 "nbformat": 4,
 "nbformat_minor": 0
}
